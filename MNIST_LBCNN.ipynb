{
 "cells": [
  {
   "cell_type": "code",
   "execution_count": 410,
   "metadata": {
    "collapsed": true
   },
   "outputs": [],
   "source": [
    "# Imports\n",
    "%matplotlib inline\n",
    "from datetime import timedelta\n",
    "from scipy.stats import bernoulli\n",
    "import joblib\n",
    "from sklearn.metrics import confusion_matrix\n",
    "import gzip\n",
    "import itertools\n",
    "import matplotlib.pyplot as plt\n",
    "import numpy as np\n",
    "import os\n",
    "import keras\n",
    "from  keras import datasets, layers, models\n",
    "\n",
    "import time\n",
    "\n",
    "import tensorflow.compat.v1 as tf\n",
    "tf.disable_v2_behavior()"
   ]
  },
  {
   "cell_type": "code",
   "execution_count": 411,
   "metadata": {
    "collapsed": true
   },
   "outputs": [],
   "source": [
    "# Dimensions of the data\n",
    "\n",
    "# We know that images are 48 pixels in each dimension\n",
    "in_height = 28\n",
    "in_width = 28\n",
    "\n",
    "# Images are stored in one-dimensional arrays of this length\n",
    "image_size_flat = in_height * in_width\n",
    "\n",
    "# Tuple with height and width of images used to reshape arrays\n",
    "image_shape = (in_height, in_width)\n",
    "\n",
    "# Classes info\n",
    "classes = [\"0\", \"1\", \"2\", \"3\", \"4\", \"5\", \"6\", \"7\", \"8\", \"9\"]\n",
    "\n",
    "# Number of classes\n",
    "num_classes = len(classes)\n",
    "\n",
    "# Number of colour channels for the images: 1 channel for gray-scale\n",
    "# Channels mean number of primary colors\n",
    "num_channels = 1"
   ]
  },
  {
   "cell_type": "code",
   "execution_count": 412,
   "metadata": {},
   "outputs": [],
   "source": [
    "# Placeholder variables\n",
    "\n",
    "# Placeholder variable for the input images\n",
    "x = tf.placeholder(tf.float32, shape=[None, image_size_flat])\n",
    "\n",
    "# Reshape 'x'\n",
    "x_image = tf.reshape(x, shape=[-1, in_height, in_width, num_channels])\n",
    "\n",
    "# Placeholder variable for the true labels associated with the images\n",
    "y_true = tf.placeholder(tf.float32, shape=[None, num_classes])\n",
    "\n",
    "# We could also have a placeholder variable for the class-number,\n",
    "# but we will instead calculate it using argmax\n",
    "y_true_cls = tf.argmax(y_true, dimension=1)"
   ]
  },
  {
   "cell_type": "code",
   "execution_count": 413,
   "metadata": {
    "collapsed": true
   },
   "outputs": [],
   "source": [
    "# Load Dataset\n",
    "def load_dataset(filename):\n",
    "    upload_file = gzip.open(filename, 'rb')\n",
    "    images_set, labels_set = joblib.load(upload_file)\n",
    "    upload_file.close()\n",
    "\n",
    "    return images_set, labels_set"
   ]
  },
  {
   "cell_type": "code",
   "execution_count": 414,
   "metadata": {},
   "outputs": [],
   "source": [
    "# Convert to grayscale function\n",
    "def rgb2gray(rgb):\n",
    "    return np.dot(rgb[...,:3], [0.2989, 0.5870, 0.1140])\n",
    "\n"
   ]
  },
  {
   "cell_type": "code",
   "execution_count": 415,
   "metadata": {
    "collapsed": true
   },
   "outputs": [],
   "source": [
    "(X_train, y_train), (X_test, y_test) = keras.datasets.mnist.load_data()\n",
    "#(x_train, y_train), (x_test, y_test) = keras.datasets.mnist.load_data()\n",
    "# Returns the values of the function for images_set, labels_set on train-set\n",
    "data_train_images, data_train_labels = (X_train, y_train)\n",
    "data_test_images, data_test_labels = (X_test, y_test)"
   ]
  },
  {
   "cell_type": "code",
   "execution_count": 416,
   "metadata": {
    "collapsed": true
   },
   "outputs": [],
   "source": [
    "#data_train_images=data_train_images/255.0\n",
    "#data_test_images=data_test_images/255.0\n",
    "# Convert training set to grayscale\n",
    "#data_train_images = rgb2gray(data_train_images)\n",
    "\n",
    "# Convert test set to grayscale\n",
    "#data_test_images = rgb2gray(data_test_images)\n",
    "\n",
    "# Reshape grayscale images to have a single channel\n",
    "#data_train_images = np.expand_dims(data_train_images, axis=-1)\n",
    "#data_test_images = np.expand_dims(data_test_images, axis=-1)"
   ]
  },
  {
   "cell_type": "code",
   "execution_count": 417,
   "metadata": {
    "collapsed": true
   },
   "outputs": [],
   "source": [
    "# Class labels are One-Hot coded, meaning that each label is a vector with 7 elements,\n",
    "# all of which are zero except one element\n",
    "def dense_to_one_hot(labels_dense, num_classes):\n",
    "    num_labels = labels_dense.shape[0]\n",
    "    index_offset = np.arange(num_labels) * num_classes\n",
    "    labels_one_hot = np.zeros((num_labels, num_classes))\n",
    "    labels_one_hot.flat[index_offset + labels_dense.ravel()] = 1\n",
    "    \n",
    "    return labels_one_hot"
   ]
  },
  {
   "cell_type": "code",
   "execution_count": 418,
   "metadata": {
    "collapsed": true
   },
   "outputs": [],
   "source": [
    "# Call function dense_to_one_hot()\n",
    "data_train_labels  = dense_to_one_hot(labels_dense=data_train_labels, num_classes=num_classes)\n",
    "data_test_labels  = dense_to_one_hot(labels_dense=data_test_labels, num_classes=num_classes)"
   ]
  },
  {
   "cell_type": "code",
   "execution_count": 419,
   "metadata": {},
   "outputs": [
    {
     "name": "stdout",
     "output_type": "stream",
     "text": [
      "Size of:\n",
      "- Training-set:\t\t60000\n",
      "- Test-set:\t\t10000\n"
     ]
    }
   ],
   "source": [
    "print(\"Size of:\")\n",
    "print(\"- Training-set:\\t\\t{}\".format(len(data_train_images)))\n",
    "print(\"- Test-set:\\t\\t{}\".format(len(data_test_images)))"
   ]
  },
  {
   "cell_type": "code",
   "execution_count": 420,
   "metadata": {
    "collapsed": true
   },
   "outputs": [],
   "source": [
    "data_test_cls = np.argmax(data_test_labels, axis=1)\n",
    "# print data_test_cls"
   ]
  },
  {
   "cell_type": "code",
   "execution_count": 421,
   "metadata": {
    "collapsed": true
   },
   "outputs": [],
   "source": [
    "# Helper-function for catch the class\n",
    "# number and print its corresponding name\n",
    "def get_emotion(num_class):\n",
    "    if num_class == 0:\n",
    "        return 'aeroplane'\n",
    "    elif num_class == 1:\n",
    "        return 'automobile'\n",
    "    elif num_class == 2:\n",
    "        return 'bird'\n",
    "    elif num_class == 3:\n",
    "        return 'cat'\n",
    "    elif num_class == 4:\n",
    "        return 'deer'\n",
    "    elif num_class == 5:\n",
    "        return 'dog'\n",
    "    elif num_class == 6:\n",
    "        return 'frog'\n",
    "    elif num_class == 7:\n",
    "        return 'horse'\n",
    "    elif num_class == 8:\n",
    "        return 'ship'\n",
    "    elif num_class == 9:\n",
    "        return 'truck'"
   ]
  },
  {
   "cell_type": "code",
   "execution_count": 422,
   "metadata": {
    "collapsed": true
   },
   "outputs": [],
   "source": [
    "# Helper-function for plotting images\n",
    "def plot_images1(images, cls_true, cls_pred=None):\n",
    "    assert len(images) == len(cls_true) == 9\n",
    "    \n",
    "    # Create figure with 3x3 sub-plots\n",
    "    fig, axes = plt.subplots(3, 3)\n",
    "    fig.subplots_adjust(hspace=0.3, wspace=0.3)\n",
    "\n",
    "    for i, ax in enumerate(axes.flat):\n",
    "        # Plot image\n",
    "        ax.imshow(images[i].reshape(image_shape), cmap='gray')\n",
    "\n",
    "        # Show true and predicted classes\n",
    "        # T = True, and P = Predicted\n",
    "        if cls_pred is None:\n",
    "            xlabel = \"T: {0}\".format(get_emotion(cls_true[i]))\n",
    "        else:\n",
    "            xlabel = \"T: {0}, P: {1}\".format(get_emotion(cls_true[i]), get_emotion(cls_pred[i]))\n",
    "\n",
    "        # Show the classes as the label on the x-axis\n",
    "        ax.set_xlabel(xlabel)\n",
    "        \n",
    "        # Remove ticks from the plot\n",
    "        ax.set_xticks([])\n",
    "        ax.set_yticks([])\n",
    "    \n",
    "    plt.show()\n",
    "\n",
    "def plot_images(images, cls_true, cls_pred=None):\n",
    "    assert len(images) == len(cls_true) == 9\n",
    "    \n",
    "    # Create figure with 3x3 sub-plots\n",
    "    fig, axes = plt.subplots(3, 3)\n",
    "    fig.subplots_adjust(hspace=0.3, wspace=0.3)\n",
    "\n",
    "    for i, ax in enumerate(axes.flat):\n",
    "        # Plot image\n",
    "        ax.imshow(images[i], cmap='gray')\n",
    "        \n",
    "        # Show true and predicted classes\n",
    "        if cls_pred is None:\n",
    "            xlabel = \"True: {0}\".format(cls_true[i])\n",
    "        else:\n",
    "            xlabel = \"True: {0}, Pred: {1}\".format(cls_true[i], cls_pred[i])\n",
    "\n",
    "        # Show the classes as the label on the x-axis\n",
    "        ax.set_xlabel(xlabel)\n",
    "        \n",
    "        # Remove ticks from the plot\n",
    "        ax.set_xticks([])\n",
    "        ax.set_yticks([])\n",
    "    \n",
    "    plt.show()"
   ]
  },
  {
   "cell_type": "code",
   "execution_count": 423,
   "metadata": {},
   "outputs": [
    {
     "name": "stdout",
     "output_type": "stream",
     "text": [
      "(9, 28, 28)\n"
     ]
    },
    {
     "data": {
      "image/png": "[encoded data removed]",
      "text/plain": [
       "<Figure size 640x480 with 9 Axes>"
      ]
     },
     "metadata": {},
     "output_type": "display_data"
    }
   ],
   "source": [
    "# Plot a few images to see if data is correct\n",
    "\n",
    "\n",
    "\n",
    "# Get the first images from the test-set\n",
    "images = data_test_images[0:9]\n",
    "\n",
    "\n",
    "# Get the true classes for those images\n",
    "cls_true = data_test_cls[0:9]\n",
    "\n",
    "print(images.shape)\n",
    "\n",
    "# Plot the images and labels using our helper-function above\n",
    "plot_images(images=images, cls_true=cls_true)\n",
    "\n",
    "\n"
   ]
  },
  {
   "cell_type": "code",
   "execution_count": 424,
   "metadata": {
    "collapsed": true
   },
   "outputs": [],
   "source": [
    "# Convolutional Layer 1\n",
    "\n",
    "# Convolution filters are 3 x 3 pixels\n",
    "filter_height_1 = 3\n",
    "filter_width_1 = 3\n",
    "\n",
    "# There are 8 of these filters\n",
    "num_filters_1 = 8\n",
    "\n",
    "# Convolutional Layer 2\n",
    "\n",
    "# Convolution filters are 3 x 3 pixels\n",
    "filter_height_2 = 3 \n",
    "filter_width_2 = 3\n",
    "\n",
    "# There are 16 of these filters\n",
    "num_filters_2 = 16\n",
    "\n",
    "# Convolutional Layer 3\n",
    "\n",
    "# Convolution filters are 3 x 3 pixels\n",
    "filter_height_3 = 3\n",
    "filter_width_3 = 3\n",
    "\n",
    "# There are 32 of these filters\n",
    "num_filters_3 = 32\n",
    "\n",
    "# Convolutional Layer 4\n",
    "\n",
    "# Convolution filters are 3 x 3 pixels\n",
    "filter_height_4 = 3\n",
    "filter_width_4 = 3\n",
    "\n",
    "# There are 64 of these filters\n",
    "num_filters_4 = 64\n",
    "\n",
    "# Convolutional Layer 5\n",
    "\n",
    "# Convolution filters are 3 x 3 pixels\n",
    "filter_height_5 = 3\n",
    "filter_width_5 = 3\n",
    "\n",
    "# There are 128 of these filters\n",
    "num_filters_5 = 128\n",
    "\n",
    "# Fully-connected layer\n",
    "# Number of neurons in fully-connected layer\n",
    "fc_size = 128"
   ]
  },
  {
   "cell_type": "code",
   "execution_count": 425,
   "metadata": {
    "collapsed": true
   },
   "outputs": [],
   "source": [
    "# Non-trainable filters initialized with distribution\n",
    "# of Bernoulli as in article and then it's non-trainable\n",
    "def new_weights_non_trainable(h,\n",
    "                              w,\n",
    "                              num_input,\n",
    "                              num_output,\n",
    "                              sparsity=0.5):\n",
    "    \n",
    "    # Number of elements\n",
    "    num_elements = h * w * num_input * num_output\n",
    "    \n",
    "    # Create an array with n number of elements\n",
    "    array = np.arange(num_elements)\n",
    "    \n",
    "    # Random shuffle it\n",
    "    np.random.shuffle(array)\n",
    "    \n",
    "    # Fill with 0\n",
    "    weight = np.zeros([num_elements])\n",
    "    \n",
    "    # Get number of elements in array that need be non-zero\n",
    "    ind = int(sparsity * num_elements + 0.5)\n",
    "    \n",
    "    # Get it piece as indexes for weight matrix\n",
    "    index = array[:ind]\n",
    "  \n",
    "    for i in index:\n",
    "        # Fill those indexes with bernoulli distribution\n",
    "        # Method rvs = random variates\n",
    "        weight[i] = bernoulli.rvs(0.5)*2-1\n",
    "\n",
    "    # Reshape weights array for matrix that we need\n",
    "    weights = weight.reshape(h, w, num_input, num_output)\n",
    "    \n",
    "    # print weights\n",
    "\n",
    "    return weights"
   ]
  },
  {
   "cell_type": "code",
   "execution_count": 426,
   "metadata": {
    "collapsed": true
   },
   "outputs": [],
   "source": [
    "def new_weights(shape):\n",
    "    return tf.Variable(tf.truncated_normal(shape, stddev=0.05))"
   ]
  },
  {
   "cell_type": "code",
   "execution_count": 427,
   "metadata": {
    "collapsed": true
   },
   "outputs": [],
   "source": [
    "def new_biases(length):\n",
    "    # Equivalent to y intercept\n",
    "    # Constant value carried over across matrix math\n",
    "    return tf.Variable(tf.constant(0.05, shape=[length]))"
   ]
  },
  {
   "cell_type": "code",
   "execution_count": 428,
   "metadata": {
    "collapsed": true
   },
   "outputs": [],
   "source": [
    "# Think of it as one block\n",
    "\n",
    "def new_LBC_layer(input,              # The previous layer\n",
    "                  filter_height,      # Height of each filter\n",
    "                  filter_width,       # Width of each filter\n",
    "                  in_channels,        # Num. channels in prev. layer\n",
    "                  out_channels,       # # Number of filters\n",
    "                  use_pooling=True):  # Use 2x2 max-pooling\n",
    "    \n",
    "    # The out_channels of the previous layer are the in_channels of the next layer\n",
    "\n",
    "    # Shape of the filter-weights for the convolution\n",
    "    # This format is determined by the TensorFlow API\n",
    "    # shape = [filter_height, filter_width, in_channels, out_channels]\n",
    "\n",
    "    # Non-trainable filters\n",
    "    anchor_weights = tf.Variable(new_weights_non_trainable(h=filter_height,\n",
    "                                                           w=filter_width,\n",
    "                                                           num_input=in_channels,\n",
    "                                                           num_output=out_channels).astype(np.float32),\n",
    "                                                           trainable=False)\n",
    "    \n",
    "    # Difference Maps\n",
    "    difference_maps = tf.nn.conv2d(input=input,\n",
    "                                   filter=anchor_weights,\n",
    "                                   strides=[1, 1, 1, 1],\n",
    "                                   padding='SAME')\n",
    "    \n",
    "    # Non-linear unit is ReLU, as in article\n",
    "    \n",
    "    # Bit Maps\n",
    "    bit_maps = tf.nn.relu(difference_maps)\n",
    "    \n",
    "    # Set of learnable linear weights is a convolution with 1x1 kernels,\n",
    "    # without bias and without non-linear unit\n",
    "\n",
    "    shape = [1, 1, out_channels, 1]\n",
    "    \n",
    "    weights = new_weights(shape)\n",
    "\n",
    "    # Feature Maps\n",
    "    feature_maps = tf.nn.conv2d(input=bit_maps, \n",
    "                                filter=weights,\n",
    "                                strides=[1, 1, 1, 1],\n",
    "                                padding='SAME')\n",
    "\n",
    "    # Use pooling to down-sample the image resolution?\n",
    "    if use_pooling:\n",
    "        # This is 2x2 max-pooling, which means that we\n",
    "        # consider 2x2 windows and select the largest value\n",
    "        # in each window. Then we move 2 pixels to the next window\n",
    "        feature_maps = tf.nn.max_pool(value=feature_maps,\n",
    "                               ksize=[1, 2, 2, 1],\n",
    "                               strides=[1, 2, 2, 1],\n",
    "                               padding='SAME')\n",
    "\n",
    "    # We will plot them later\n",
    "    return feature_maps, anchor_weights, weights"
   ]
  },
  {
   "cell_type": "code",
   "execution_count": 429,
   "metadata": {
    "collapsed": true
   },
   "outputs": [],
   "source": [
    "# Convolutional layer 1 \n",
    "feature_maps_conv_1, anchor_weights_conv_1, weights_conv_1 = new_LBC_layer(input=x_image,\n",
    "                                                                           filter_height=filter_height_1,\n",
    "                                                                           filter_width=filter_width_1,\n",
    "                                                                           in_channels=num_channels,\n",
    "                                                                           out_channels=num_filters_1,\n",
    "                                                                           use_pooling=False)"
   ]
  },
  {
   "cell_type": "code",
   "execution_count": 430,
   "metadata": {},
   "outputs": [
    {
     "data": {
      "text/plain": [
       "<tf.Tensor 'Conv2D_57:0' shape=(?, 28, 28, 1) dtype=float32>"
      ]
     },
     "execution_count": 430,
     "metadata": {},
     "output_type": "execute_result"
    }
   ],
   "source": [
    "feature_maps_conv_1"
   ]
  },
  {
   "cell_type": "code",
   "execution_count": 431,
   "metadata": {},
   "outputs": [
    {
     "data": {
      "text/plain": [
       "<tf.Variable 'Variable_80:0' shape=(3, 3, 1, 8) dtype=float32_ref>"
      ]
     },
     "execution_count": 431,
     "metadata": {},
     "output_type": "execute_result"
    }
   ],
   "source": [
    "anchor_weights_conv_1"
   ]
  },
  {
   "cell_type": "code",
   "execution_count": 432,
   "metadata": {},
   "outputs": [
    {
     "data": {
      "text/plain": [
       "<tf.Variable 'Variable_81:0' shape=(1, 1, 8, 1) dtype=float32_ref>"
      ]
     },
     "execution_count": 432,
     "metadata": {},
     "output_type": "execute_result"
    }
   ],
   "source": [
    "weights_conv_1"
   ]
  },
  {
   "cell_type": "code",
   "execution_count": 433,
   "metadata": {
    "collapsed": true
   },
   "outputs": [],
   "source": [
    "# Convolutional layer 2\n",
    "feature_maps_conv_2, anchor_weights_conv_2, weights_conv_2 = new_LBC_layer(input=feature_maps_conv_1,\n",
    "                                                                           filter_height=filter_height_2,\n",
    "                                                                           filter_width=filter_width_2,\n",
    "                                                                           in_channels=1,\n",
    "                                                                           out_channels=num_filters_2,\n",
    "                                                                           use_pooling=False)"
   ]
  },
  {
   "cell_type": "code",
   "execution_count": 434,
   "metadata": {},
   "outputs": [
    {
     "data": {
      "text/plain": [
       "<tf.Tensor 'Conv2D_59:0' shape=(?, 28, 28, 1) dtype=float32>"
      ]
     },
     "execution_count": 434,
     "metadata": {},
     "output_type": "execute_result"
    }
   ],
   "source": [
    "feature_maps_conv_2"
   ]
  },
  {
   "cell_type": "code",
   "execution_count": 435,
   "metadata": {},
   "outputs": [
    {
     "data": {
      "text/plain": [
       "<tf.Variable 'Variable_82:0' shape=(3, 3, 1, 16) dtype=float32_ref>"
      ]
     },
     "execution_count": 435,
     "metadata": {},
     "output_type": "execute_result"
    }
   ],
   "source": [
    "anchor_weights_conv_2"
   ]
  },
  {
   "cell_type": "code",
   "execution_count": 436,
   "metadata": {},
   "outputs": [
    {
     "data": {
      "text/plain": [
       "<tf.Variable 'Variable_83:0' shape=(1, 1, 16, 1) dtype=float32_ref>"
      ]
     },
     "execution_count": 436,
     "metadata": {},
     "output_type": "execute_result"
    }
   ],
   "source": [
    "weights_conv_2"
   ]
  },
  {
   "cell_type": "code",
   "execution_count": 437,
   "metadata": {
    "collapsed": true
   },
   "outputs": [],
   "source": [
    "# Convolutional layer 3\n",
    "feature_maps_conv_3, anchor_weights_conv_3, weights_conv_3 = new_LBC_layer(input=feature_maps_conv_2,\n",
    "                                                                           filter_height=filter_height_3,\n",
    "                                                                           filter_width=filter_width_3,\n",
    "                                                                           in_channels=1,\n",
    "                                                                           out_channels=num_filters_3,\n",
    "                                                                           use_pooling=False)"
   ]
  },
  {
   "cell_type": "code",
   "execution_count": 438,
   "metadata": {},
   "outputs": [
    {
     "data": {
      "text/plain": [
       "<tf.Tensor 'Conv2D_61:0' shape=(?, 28, 28, 1) dtype=float32>"
      ]
     },
     "execution_count": 438,
     "metadata": {},
     "output_type": "execute_result"
    }
   ],
   "source": [
    "feature_maps_conv_3"
   ]
  },
  {
   "cell_type": "code",
   "execution_count": 439,
   "metadata": {},
   "outputs": [
    {
     "data": {
      "text/plain": [
       "<tf.Variable 'Variable_84:0' shape=(3, 3, 1, 32) dtype=float32_ref>"
      ]
     },
     "execution_count": 439,
     "metadata": {},
     "output_type": "execute_result"
    }
   ],
   "source": [
    "anchor_weights_conv_3"
   ]
  },
  {
   "cell_type": "code",
   "execution_count": 440,
   "metadata": {},
   "outputs": [
    {
     "data": {
      "text/plain": [
       "<tf.Variable 'Variable_85:0' shape=(1, 1, 32, 1) dtype=float32_ref>"
      ]
     },
     "execution_count": 440,
     "metadata": {},
     "output_type": "execute_result"
    }
   ],
   "source": [
    "weights_conv_3"
   ]
  },
  {
   "cell_type": "code",
   "execution_count": 441,
   "metadata": {
    "collapsed": true
   },
   "outputs": [],
   "source": [
    "# Convolutional layer 4\n",
    "feature_maps_conv_4, anchor_weights_conv_4, weights_conv_4 = new_LBC_layer(input=feature_maps_conv_3,\n",
    "                                                                           filter_height=filter_height_4,\n",
    "                                                                          filter_width=filter_width_4,\n",
    "                                                                           in_channels=1,\n",
    "                                                                           out_channels=num_filters_4,\n",
    "                                                                           use_pooling=False)"
   ]
  },
  {
   "cell_type": "code",
   "execution_count": 442,
   "metadata": {},
   "outputs": [
    {
     "data": {
      "text/plain": [
       "<tf.Tensor 'Conv2D_63:0' shape=(?, 28, 28, 1) dtype=float32>"
      ]
     },
     "execution_count": 442,
     "metadata": {},
     "output_type": "execute_result"
    }
   ],
   "source": [
    "feature_maps_conv_4"
   ]
  },
  {
   "cell_type": "code",
   "execution_count": 443,
   "metadata": {},
   "outputs": [
    {
     "data": {
      "text/plain": [
       "<tf.Variable 'Variable_86:0' shape=(3, 3, 1, 64) dtype=float32_ref>"
      ]
     },
     "execution_count": 443,
     "metadata": {},
     "output_type": "execute_result"
    }
   ],
   "source": [
    "anchor_weights_conv_4"
   ]
  },
  {
   "cell_type": "code",
   "execution_count": 444,
   "metadata": {},
   "outputs": [
    {
     "data": {
      "text/plain": [
       "<tf.Variable 'Variable_87:0' shape=(1, 1, 64, 1) dtype=float32_ref>"
      ]
     },
     "execution_count": 444,
     "metadata": {},
     "output_type": "execute_result"
    }
   ],
   "source": [
    "weights_conv_4"
   ]
  },
  {
   "cell_type": "code",
   "execution_count": 445,
   "metadata": {
    "collapsed": true
   },
   "outputs": [],
   "source": [
    "# Convolutional layer 5\n",
    "feature_maps_conv_5, anchor_weights_conv_5, weights_conv_5 = new_LBC_layer(input=feature_maps_conv_4,\n",
    "                                                                           filter_height=filter_height_5,\n",
    "                                                                           filter_width=filter_width_5,\n",
    "                                                                           in_channels=1,\n",
    "                                                                           out_channels=num_filters_5,\n",
    "                                                                           use_pooling=True)"
   ]
  },
  {
   "cell_type": "code",
   "execution_count": 446,
   "metadata": {},
   "outputs": [
    {
     "data": {
      "text/plain": [
       "<tf.Tensor 'MaxPool_5:0' shape=(?, 14, 14, 1) dtype=float32>"
      ]
     },
     "execution_count": 446,
     "metadata": {},
     "output_type": "execute_result"
    }
   ],
   "source": [
    "feature_maps_conv_5"
   ]
  },
  {
   "cell_type": "code",
   "execution_count": 447,
   "metadata": {},
   "outputs": [
    {
     "data": {
      "text/plain": [
       "<tf.Variable 'Variable_88:0' shape=(3, 3, 1, 128) dtype=float32_ref>"
      ]
     },
     "execution_count": 447,
     "metadata": {},
     "output_type": "execute_result"
    }
   ],
   "source": [
    "anchor_weights_conv_5"
   ]
  },
  {
   "cell_type": "code",
   "execution_count": 448,
   "metadata": {},
   "outputs": [
    {
     "data": {
      "text/plain": [
       "<tf.Variable 'Variable_89:0' shape=(1, 1, 128, 1) dtype=float32_ref>"
      ]
     },
     "execution_count": 448,
     "metadata": {},
     "output_type": "execute_result"
    }
   ],
   "source": [
    "weights_conv_5"
   ]
  },
  {
   "cell_type": "code",
   "execution_count": 449,
   "metadata": {
    "collapsed": true
   },
   "outputs": [],
   "source": [
    "def flatten_layer(layer):\n",
    "    # Get the shape of the input layer\n",
    "    layer_shape = layer.get_shape()\n",
    "\n",
    "    # The shape of the input layer is assumed to be:\n",
    "    # layer_shape == [num_images, image_height, image_width, num_channels]\n",
    "\n",
    "    # The number of features is: image_height * image_width * num_channels\n",
    "    # We can use a function from TensorFlow to calculate this\n",
    "    num_features = layer_shape[1:4].num_elements()\n",
    "    \n",
    "    # Reshape the layer to [num_images, num_features]\n",
    "    # Note that we just set the size of the second dimension\n",
    "    # to num_features and the size of the first dimension to -1\n",
    "    # which means the size in that dimension is calculated\n",
    "    # so the total size of the tensor is unchanged from the reshaping\n",
    "    layer_flat = tf.reshape(layer, [-1, num_features])\n",
    "\n",
    "    # The shape of the flattened layer is now:\n",
    "    # [num_images, image_height * image_width * num_channels]\n",
    "\n",
    "    # Return both the flattened layer and the number of features\n",
    "    return layer_flat, num_features"
   ]
  },
  {
   "cell_type": "code",
   "execution_count": 450,
   "metadata": {
    "collapsed": true
   },
   "outputs": [],
   "source": [
    "layer_flat, num_features = flatten_layer(feature_maps_conv_5)"
   ]
  },
  {
   "cell_type": "code",
   "execution_count": 451,
   "metadata": {},
   "outputs": [
    {
     "data": {
      "text/plain": [
       "<tf.Tensor 'Reshape_13:0' shape=(?, 196) dtype=float32>"
      ]
     },
     "execution_count": 451,
     "metadata": {},
     "output_type": "execute_result"
    }
   ],
   "source": [
    "layer_flat"
   ]
  },
  {
   "cell_type": "code",
   "execution_count": 452,
   "metadata": {},
   "outputs": [
    {
     "data": {
      "text/plain": [
       "196"
      ]
     },
     "execution_count": 452,
     "metadata": {},
     "output_type": "execute_result"
    }
   ],
   "source": [
    "num_features"
   ]
  },
  {
   "cell_type": "code",
   "execution_count": 453,
   "metadata": {
    "collapsed": true
   },
   "outputs": [],
   "source": [
    "def new_fc_layer(input,          # The previous layer\n",
    "                 num_inputs,     # Num. inputs from prev. layer\n",
    "                 num_outputs,    # Num. outputs\n",
    "                 use_relu=True): # Use Rectified Linear Unit (ReLU)?\n",
    "\n",
    "    # Create new weights and biases\n",
    "    weights = new_weights(shape=[num_inputs, num_outputs])\n",
    "    biases = new_biases(length=num_outputs)\n",
    "\n",
    "    # Calculate the layer as the matrix multiplication of\n",
    "    # the input and weights, and then add the bias-values\n",
    "    layer = tf.matmul(input, weights) + biases\n",
    "\n",
    "    # Use ReLU?\n",
    "    if use_relu:\n",
    "        layer = tf.nn.relu(layer)\n",
    "\n",
    "    return layer"
   ]
  },
  {
   "cell_type": "code",
   "execution_count": 454,
   "metadata": {
    "collapsed": true
   },
   "outputs": [],
   "source": [
    "# Fully-Connected Layer 1\n",
    "layer_fc_1 = new_fc_layer(input=layer_flat,\n",
    "                         num_inputs=num_features,\n",
    "                         num_outputs=fc_size,\n",
    "                         use_relu=True)"
   ]
  },
  {
   "cell_type": "code",
   "execution_count": 455,
   "metadata": {},
   "outputs": [
    {
     "data": {
      "text/plain": [
       "<tf.Tensor 'Relu_39:0' shape=(?, 128) dtype=float32>"
      ]
     },
     "execution_count": 455,
     "metadata": {},
     "output_type": "execute_result"
    }
   ],
   "source": [
    "layer_fc_1"
   ]
  },
  {
   "cell_type": "code",
   "execution_count": 456,
   "metadata": {
    "collapsed": true
   },
   "outputs": [],
   "source": [
    "# Fully-Connected Layer 2 (Classes)\n",
    "layer_fc_2 = new_fc_layer(input=layer_fc_1,\n",
    "                         num_inputs=fc_size,\n",
    "                         num_outputs=num_classes,\n",
    "                         use_relu=False)"
   ]
  },
  {
   "cell_type": "code",
   "execution_count": 457,
   "metadata": {},
   "outputs": [
    {
     "data": {
      "text/plain": [
       "<tf.Tensor 'add_13:0' shape=(?, 10) dtype=float32>"
      ]
     },
     "execution_count": 457,
     "metadata": {},
     "output_type": "execute_result"
    }
   ],
   "source": [
    "layer_fc_2"
   ]
  },
  {
   "cell_type": "code",
   "execution_count": 458,
   "metadata": {
    "collapsed": true
   },
   "outputs": [],
   "source": [
    "# Normalization of class-number output\n",
    "y_pred = tf.nn.softmax(layer_fc_2)"
   ]
  },
  {
   "cell_type": "code",
   "execution_count": 459,
   "metadata": {
    "collapsed": true
   },
   "outputs": [],
   "source": [
    "# The class-number is the index of the largest element\n",
    "y_pred_cls = tf.argmax(y_pred, dimension=1)"
   ]
  },
  {
   "cell_type": "code",
   "execution_count": 460,
   "metadata": {},
   "outputs": [],
   "source": [
    "# Cross-entropy \n",
    "cross_entropy = tf.nn.softmax_cross_entropy_with_logits(logits=layer_fc_2,\n",
    "                                                        labels=y_true)"
   ]
  },
  {
   "cell_type": "code",
   "execution_count": 461,
   "metadata": {
    "collapsed": true
   },
   "outputs": [],
   "source": [
    "# Average of the cross-entropy\n",
    "loss = tf.reduce_mean(cross_entropy)"
   ]
  },
  {
   "cell_type": "code",
   "execution_count": 462,
   "metadata": {
    "collapsed": true
   },
   "outputs": [],
   "source": [
    "# Optimization method\n",
    "optimizer = tf.train.AdamOptimizer(learning_rate=1e-3).minimize(loss)"
   ]
  },
  {
   "cell_type": "code",
   "execution_count": 463,
   "metadata": {
    "collapsed": true
   },
   "outputs": [],
   "source": [
    "# Measures of performance\n",
    "correct_prediction = tf.equal(y_pred_cls, y_true_cls)\n",
    "\n",
    "accuracy = tf.reduce_mean(tf.cast(correct_prediction, tf.float32))"
   ]
  },
  {
   "cell_type": "code",
   "execution_count": 464,
   "metadata": {},
   "outputs": [
    {
     "name": "stdout",
     "output_type": "stream",
     "text": [
      "\n",
      "Total number of learning parameters in the network model: 488846\n"
     ]
    }
   ],
   "source": [
    "# Calculates the total number of learning parameters\n",
    "total_parameters = 0\n",
    "\n",
    "for variable in tf.trainable_variables():\n",
    "    variable_parameters = 1\n",
    "    \n",
    "    for i in variable.get_shape():\n",
    "        variable_parameters *= i.value\n",
    "        \n",
    "    total_parameters += variable_parameters\n",
    "\n",
    "print(\"\\nTotal number of learning parameters in the network model: %d\" % total_parameters)"
   ]
  },
  {
   "cell_type": "code",
   "execution_count": 465,
   "metadata": {
    "collapsed": true
   },
   "outputs": [],
   "source": [
    "# Saver-object which is used for storing and retrieving\n",
    "# all the variables of the TensorFlow graph\n",
    "saver = tf.train.Saver()"
   ]
  },
  {
   "cell_type": "code",
   "execution_count": 466,
   "metadata": {
    "collapsed": true
   },
   "outputs": [],
   "source": [
    "epochs_completed = 0\n",
    "index_in_epoch = 0\n",
    "num_examples = data_train_images.shape[0]\n",
    "\n",
    "# Serve data by batches\n",
    "def next_batch(batch_size):\n",
    "    \n",
    "    global data_train_images\n",
    "    global data_train_labels \n",
    "    global index_in_epoch\n",
    "    global epochs_completed\n",
    "    \n",
    "    start = index_in_epoch\n",
    "    index_in_epoch += train_batch_size\n",
    "    \n",
    "    # When all trainig data have been already used, it is reorder randomly    \n",
    "    if index_in_epoch > num_examples:\n",
    "        # Finished epoch\n",
    "        epochs_completed += 1\n",
    "        \n",
    "        # Shuffle the data\n",
    "        perm = np.arange(num_examples)\n",
    "        np.random.shuffle(perm)\n",
    "        \n",
    "        data_train_images = data_train_images[perm]\n",
    "        data_train_labels = data_train_labels [perm]\n",
    "        \n",
    "        # Start next epoch\n",
    "        start = 0\n",
    "        index_in_epoch = train_batch_size\n",
    "        \n",
    "        assert train_batch_size <= num_examples\n",
    "    end = index_in_epoch\n",
    "    \n",
    "    return data_train_images[start:end], data_train_labels[start:end]"
   ]
  },
  {
   "cell_type": "code",
   "execution_count": 467,
   "metadata": {
    "collapsed": true
   },
   "outputs": [
    {
     "name": "stdout",
     "output_type": "stream",
     "text": [
      "Device mapping: no known devices.\n"
     ]
    }
   ],
   "source": [
    "# TensorFlow session\n",
    "# Verify your GPU - Find out which device is use\n",
    "session = tf.Session(config=tf.ConfigProto(log_device_placement=True))"
   ]
  },
  {
   "cell_type": "code",
   "execution_count": 468,
   "metadata": {},
   "outputs": [
    {
     "name": "stdout",
     "output_type": "stream",
     "text": [
      "Trying to restore last checkpoint...\n",
      "\n",
      "INFO:tensorflow:Restoring parameters from Checkpoints/MNIST/MNIST-0\n",
      "\n",
      "Failed to restore checkpoint. Initializing variables instead.\n"
     ]
    }
   ],
   "source": [
    "# Restore or initialize variables\n",
    "\n",
    "# We therefore save checkpoints during training so we can continue training at\n",
    "# another time (e.g. during the night), and also for performing analysis later\n",
    "# without having to train the neural network every time we want to use it\n",
    "\n",
    "# If you want to restart the training of the neural network, you have to delete\n",
    "# the checkpoints first\n",
    "\n",
    "# Directory used for the checkpoints\n",
    "save_dir = 'Checkpoints/MNIST/'\n",
    "\n",
    "# Create the directory if it does not exist\n",
    "if not os.path.exists(save_dir):\n",
    "    os.makedirs(save_dir)\n",
    "    \n",
    "# Base-filename for the checkpoints\n",
    "save_path = os.path.join(save_dir, 'MNIST')\n",
    "\n",
    "# First try to restore the latest checkpoint. This may fail and raise an exception e.g.\n",
    "# if such a checkpoint does not exist, or if you have changed the TensorFlow graph\n",
    "\n",
    "try:\n",
    "    print(\"Trying to restore last checkpoint...\\n\")\n",
    "\n",
    "    # Find the latest checkpoint - if any\n",
    "    last_checkpoint_path = tf.train.latest_checkpoint(checkpoint_dir=save_dir)\n",
    "\n",
    "    # Try and load the data in the checkpoint\n",
    "    saver.restore(session, save_path=last_checkpoint_path)\n",
    "\n",
    "    # If we get to this point, the checkpoint was successfully loaded\n",
    "    print(\"\\nRestored checkpoint from\" + last_checkpoint_path)\n",
    "\n",
    "except:\n",
    "    # If the above failed for some reason, simply\n",
    "    # initialize all the variables for the TensorFlow graph\n",
    "    print(\"\\nFailed to restore checkpoint. Initializing variables instead.\")\n",
    "    session.run(tf.global_variables_initializer())"
   ]
  },
  {
   "cell_type": "code",
   "execution_count": 469,
   "metadata": {
    "collapsed": true
   },
   "outputs": [],
   "source": [
    "# Split the training-set into smaller batches of this size\n",
    "train_batch_size = 128"
   ]
  },
  {
   "cell_type": "code",
   "execution_count": 470,
   "metadata": {
    "collapsed": true
   },
   "outputs": [],
   "source": [
    "# Counter for total number of iterations performed so far\n",
    "total_iterations = 0"
   ]
  },
  {
   "cell_type": "code",
   "execution_count": 471,
   "metadata": {
    "collapsed": true
   },
   "outputs": [],
   "source": [
    "# Helper-function for performing a number of optimization iterations so as to gradually\n",
    "# improve the variables of the network layers\n",
    "\n",
    "# In each iteration, a new batch of data is selected from the training-set and then\n",
    "# TensorFlow executes the optimizer using those training samples\n",
    "\n",
    "# The progress is printed every 100 iterations\n",
    "# Helper-function for performing a number of optimization iterations so as to gradually\n",
    "# improve the variables of the network layers\n",
    "\n",
    "# In each iteration, a new batch of data is selected from the training-set and then\n",
    "# TensorFlow executes the optimizer using those training samples\n",
    "\n",
    "# Helper-function for performing a number of optimization iterations so as to gradually\n",
    "# improve the variables of the network layers\n",
    "\n",
    "# In each iteration, a new batch of data is selected from the training-set and then\n",
    "# TensorFlow executes the optimizer using those training samples\n",
    "\n",
    "# The progress is printed every 100 iterations\n",
    "def training(num_iterations):\n",
    "    \n",
    "    # Ensure we update the global variable rather than a local copy\n",
    "    global total_iterations\n",
    "\n",
    "    # Start-time used for printing time-usage below\n",
    "    start_time = time.time()\n",
    "    \n",
    "    for i in range(total_iterations, total_iterations + num_iterations):\n",
    "        \n",
    "        # Get a batch of training examples:\n",
    "        # x_batch now holds a batch of images and\n",
    "        # y_true_batch are the true labels for those images\n",
    "        x_batch, y_true_batch = next_batch(train_batch_size)\n",
    "\n",
    "        # Flatten the batch of images\n",
    "        x_batch_flat = x_batch.reshape(-1, image_size_flat)\n",
    "\n",
    "        # Put the batch into a dict with the proper names\n",
    "        # for placeholder variables in the TensorFlow graph\n",
    "        feed_dict_train = {x: x_batch_flat, y_true: y_true_batch}\n",
    "        \n",
    "        # Run the optimizer using this batch of training data\n",
    "        # TensorFlow assigns the variables in feed_dict_train\n",
    "        # to the placeholder variables and then runs the optimizer\n",
    "        session.run(optimizer, feed_dict=feed_dict_train)\n",
    "\n",
    "        # Print status every 100 iterations\n",
    "        if i % 10 == 0:\n",
    "            # Calculate the accuracy on the training-set\n",
    "            acc = session.run(accuracy, feed_dict=feed_dict_train)\n",
    "\n",
    "            # Message for printing\n",
    "            msg = \"Optimization Iteration: {0:>6}, Training Accuracy: {1:>6.1%}\"\n",
    "\n",
    "            # Print it\n",
    "            print(msg.format(i + 1, acc))\n",
    "\n",
    "        # Save a checkpoint to disk every 1000 iterations\n",
    "        if i % 1000 == 0:\n",
    "            # Save all variables of the TensorFlow graph to a checkpoint\n",
    "            # Append the global_step counter to the filename so we save\n",
    "            # the last several checkpoints\n",
    "            saver.save(session, save_path=save_path, global_step=i)\n",
    "\n",
    "            print(\"Saved checkpoint.\")\n",
    "            \n",
    "    # Update the total number of iterations performed.\n",
    "    total_iterations += num_iterations\n",
    "\n",
    "    # Ending time.\n",
    "    end_time = time.time()\n",
    "\n",
    "    # Difference between start and end-times.\n",
    "    time_dif = end_time - start_time\n",
    "\n",
    "    # Print the time-usage.\n",
    "    print(\"Time usage: \" + str(timedelta(seconds=int(round(time_dif)))))\n",
    "\n",
    "\n",
    "\n",
    "def training1(num_iterations):\n",
    "    \n",
    "    # Ensure we update the global variable rather than a local copy\n",
    "    global total_iterations\n",
    "\n",
    "    # Start-time used for printing time-usage below\n",
    "    start_time = time.time()\n",
    "    \n",
    "    for i in range(total_iterations,\n",
    "                   total_iterations + num_iterations):\n",
    "        \n",
    "        # Get a batch of training examples:\n",
    "        # x_batch now holds a batch of images and\n",
    "        # y_true_batch are the true labels for those images                             \n",
    "        x_batch, y_true_batch = next_batch(train_batch_size)\n",
    "\n",
    "        # Print the shapes of input and label tensors\n",
    "        print(\"Shape of x placeholder:\", x.shape)\n",
    "        print(\"Shape of y_true placeholder:\", y_true.shape)\n",
    "\n",
    "        # Calculate the predicted class using TensorFlow\n",
    "        cls_pred[i:j] = session.run(y_pred_cls, feed_dict=feed_dict)\n",
    "\n",
    "        # Print the shape of the predicted class\n",
    "        print(\"Shape of predicted class array:\", cls_pred[i:j].shape)\n",
    "\n",
    "        # Put the batch into a dict with the proper names\n",
    "        # for placeholder variables in the TensorFlow graph\n",
    "        feed_dict_train = {x: x_batch,\n",
    "                           y_true: y_true_batch}\n",
    "        \n",
    "        \n",
    "        # Run the optimizer using this batch of training data\n",
    "        # TensorFlow assigns the variables in feed_dict_train\n",
    "        # to the placeholder variables and then runs the optimizer\n",
    "        session.run(optimizer, feed_dict=feed_dict_train)\n",
    "\n",
    "        # Print status every 100 iterations\n",
    "        if i % 100 == 0:\n",
    "            # Calculate the accuracy on the training-set\n",
    "            acc = session.run(accuracy, feed_dict=feed_dict_train)\n",
    "\n",
    "            # Message for printing\n",
    "            msg = \"Optimization Iteration: {0:>6}, Training Accuracy: {1:>6.1%}\"\n",
    "\n",
    "            # Print it\n",
    "            print(msg.format(i + 1, acc))\n",
    "\n",
    "        # Save a checkpoint to disk every 1000 iterations\n",
    "        if i % 1000 == 0:\n",
    "            # Save all variables of the TensorFlow graph to a checkpoint\n",
    "            # Append the global_step counter to the filename so we save\n",
    "            # the last several checkpoints\n",
    "            saver.save(session, save_path=save_path, global_step=i)\n",
    "\n",
    "            print(\"Saved checkpoint.\")\n",
    "            \n",
    "    # Update the total number of iterations performed.\n",
    "    total_iterations += num_iterations\n",
    "\n",
    "    # Ending time.\n",
    "    end_time = time.time()\n",
    "\n",
    "    # Difference between start and end-times.\n",
    "    time_dif = end_time - start_time\n",
    "\n",
    "    # Print the time-usage.\n",
    "    print(\"Time usage: \" + str(timedelta(seconds=int(round(time_dif)))))"
   ]
  },
  {
   "cell_type": "code",
   "execution_count": 472,
   "metadata": {
    "collapsed": true
   },
   "outputs": [],
   "source": [
    "# Helper-function to plot example errors\n",
    "def plot_example_errors(cls_pred, correct):\n",
    "    # This function is called from print_test_accuracy() below\n",
    "\n",
    "    # cls_pred is an array of the predicted class-number for\n",
    "    # all images in the test-set\n",
    "\n",
    "    # correct is a boolean array whether the predicted class\n",
    "    # is equal to the true class for each image in the test-set\n",
    "\n",
    "    # Negate the boolean array\n",
    "    incorrect = (correct == False)\n",
    "    \n",
    "    # Get the images from the test-set that have been\n",
    "    # incorrectly classified\n",
    "    images = data_test_images[incorrect]\n",
    "    \n",
    "    # Get the predicted classes for those images\n",
    "    cls_pred = cls_pred[incorrect]\n",
    "\n",
    "    # Get the true classes for those images\n",
    "    cls_true = data_test_cls[incorrect]\n",
    "    \n",
    "    # Plot the first 9 images\n",
    "    plot_images(images=images[0:9],\n",
    "                cls_true=cls_true[0:9],\n",
    "                cls_pred=cls_pred[0:9])"
   ]
  },
  {
   "cell_type": "code",
   "execution_count": 473,
   "metadata": {
    "collapsed": true
   },
   "outputs": [],
   "source": [
    "# Helper-function to plot confusion matrix\n",
    "def plot_confusion_matrix(cls_pred):\n",
    "    # This is called from test() below\n",
    "\n",
    "    # cls_pred is an array of the predicted class-number for\n",
    "    # all images in the test-set\n",
    "\n",
    "    # Get the true classifications for the test-set\n",
    "    cls_true = data_test_cls\n",
    "    \n",
    "    # Get the confusion matrix using sklearn\n",
    "    cm = confusion_matrix(y_true=cls_true,\n",
    "                          y_pred=cls_pred)\n",
    "\n",
    "    # Print the confusion matrix as text\n",
    "    # print(cm)\n",
    "\n",
    "    # Plot the confusion matrix as an image\n",
    "    thresh = cm.max() / 2.\n",
    "    for i, j in itertools.product(range(cm.shape[0]), range(cm.shape[1])):\n",
    "        plt.text(j,\n",
    "                 i,\n",
    "                 cm[i, j],\n",
    "                 horizontalalignment='center',\n",
    "                 color='white' if cm[i, j] > thresh else 'black')\n",
    "   \n",
    "    # Make various adjustments to the plot\n",
    "    plt.imshow(cm, interpolation='nearest', cmap='Greys')\n",
    "    plt.colorbar()\n",
    "    tick_marks = np.arange(num_classes)\n",
    "    plt.xticks(tick_marks, range(num_classes))\n",
    "    plt.yticks(tick_marks, range(num_classes))\n",
    "    plt.title('Confusion Matrix')\n",
    "    plt.xlabel('Predicted Label')\n",
    "    plt.ylabel('True Label')\n",
    "    \n",
    "    plt.show()"
   ]
  },
  {
   "cell_type": "code",
   "execution_count": 474,
   "metadata": {
    "collapsed": true
   },
   "outputs": [],
   "source": [
    "# Split the test-set into smaller batches of this size\n",
    "test_batch_size = 32"
   ]
  },
  {
   "cell_type": "code",
   "execution_count": 475,
   "metadata": {
    "collapsed": true
   },
   "outputs": [],
   "source": [
    "# Helper-function for showing the performance\n",
    "def test(show_example_errors=False, show_confusion_matrix=False):\n",
    "    # Number of images in the test-set\n",
    "    num_test = len(data_test_images)\n",
    "\n",
    "    # Allocate an array for the predicted classes which\n",
    "    # will be calculated in batches and filled into this array\n",
    "    cls_pred = np.zeros(shape=num_test, dtype=int)\n",
    "\n",
    "    # Now calculate the predicted classes for the batches\n",
    "    # We will just iterate through all the batches\n",
    "    # There might be a more clever and Pythonic way of doing this.\n",
    "\n",
    "    # The starting index for the next batch is denoted i\n",
    "    i = 0\n",
    "\n",
    "    while i < num_test:\n",
    "        # The ending index for the next batch is denoted j\n",
    "        j = min(i + test_batch_size, num_test)\n",
    "\n",
    "        # Get the images from the test-set between index i and j\n",
    "        images = data_test_images[i:j, :].reshape(-1, image_size_flat)\n",
    "\n",
    "        # Get the associated labels\n",
    "        labels = data_test_labels[i:j, :]\n",
    "\n",
    "        # Create a feed-dict with these images and labels\n",
    "        feed_dict = {x: images,\n",
    "                     y_true: labels}\n",
    "\n",
    "        # Calculate the predicted class using TensorFlow\n",
    "        cls_pred[i:j] = session.run(y_pred_cls, feed_dict=feed_dict)\n",
    "\n",
    "        # Set the start-index for the next batch to the\n",
    "        # end-index of the current batch\n",
    "        i = j\n",
    "\n",
    "    # Convenience variable for the true class-numbers of the test-set\n",
    "    cls_true = np.argmax(data_test_labels, axis=1)\n",
    "\n",
    "    # Create a boolean array whether each image is correctly classified\n",
    "    correct = (cls_true == cls_pred)\n",
    "\n",
    "    # Calculate the number of correctly classified images\n",
    "    # When summing a boolean array, False means 0 and True means 1\n",
    "    correct_sum = correct.sum()\n",
    "\n",
    "    # Classification accuracy is the number of correctly classified\n",
    "    # images divided by the total number of images in the test-set\n",
    "    acc = float(correct_sum) / num_test\n",
    "\n",
    "    # Print the accuracy\n",
    "    msg = \"Accuracy on Test-Set: {0:.1%} ({1} / {2})\"\n",
    "    print(msg.format(acc, correct_sum, num_test))\n",
    "\n",
    "    # Plot some examples of mis-classifications, if desired\n",
    "    if show_example_errors:\n",
    "        plot_example_errors(cls_pred=cls_pred, correct=correct)\n",
    "\n",
    "    # Plot the confusion matrix, if desired\n",
    "    if show_confusion_matrix:\n",
    "        plot_confusion_matrix(cls_pred=cls_pred)\n",
    "\n",
    "\n",
    "# Helper-function for showing the performance\n",
    "def test1(show_example_errors=False,\n",
    "         show_confusion_matrix=False):\n",
    "\n",
    "    # Number of images in the test-set\n",
    "    num_test = len(data_test_images)\n",
    "\n",
    "    # Allocate an array for the predicted classes which\n",
    "    # will be calculated in batches and filled into this array\n",
    "    cls_pred = np.zeros(shape=num_test, dtype=np.int)\n",
    "\n",
    "    # Now calculate the predicted classes for the batches\n",
    "    # We will just iterate through all the batches\n",
    "\n",
    "    # The starting index for the next batch is denoted i\n",
    "    i = 0\n",
    "\n",
    "    while i < num_test:\n",
    "        # The ending index for the next batch is denoted j\n",
    "        j = min(i + test_batch_size, num_test)\n",
    "\n",
    "        # Get the images from the test-set between index i and j\n",
    "        images = data_test_images[i:j, :]\n",
    "\n",
    "        # Get the associated labels.\n",
    "        labels = data_test_labels[i:j, :]\n",
    "\n",
    "        # Create a feed-dict with these images and labels\n",
    "        feed_dict = {x: images,\n",
    "                     y_true: labels}\n",
    "\n",
    "        # Calculate the predicted class using TensorFlow\n",
    "        cls_pred[i:j] = session.run(y_pred_cls, feed_dict=feed_dict)\n",
    "\n",
    "        # Set the start-index for the next batch to the\n",
    "        # end-index of the current batch\n",
    "        i = j\n",
    "\n",
    "    # Convenience variable for the true class-numbers of the test-set\n",
    "    cls_true = data_test_cls\n",
    "\n",
    "    # Create a boolean array whether each image is correctly classified\n",
    "    correct = (cls_true == cls_pred)\n",
    "\n",
    "    # Calculate the number of correctly classified images\n",
    "    # When summing a boolean array, False means 0 and True means 1\n",
    "    correct_sum = correct.sum()\n",
    "\n",
    "    # Classification accuracy is the number of correctly classified\n",
    "    # images divided by the total number of images in the test-set\n",
    "    acc = float(correct_sum) / num_test\n",
    "\n",
    "    # Print the accuracy\n",
    "    msg = \"Accuracy on Test-Set: {0:.1%} ({1} / {2})\"\n",
    "    print(msg.format(acc, correct_sum, num_test))\n",
    "\n",
    "    # Plot some examples of mis-classifications, if desired\n",
    "    if show_example_errors:\n",
    "        print(\"\\nExample errors:\")\n",
    "        plot_example_errors(cls_pred=cls_pred, correct=correct)\n",
    "\n",
    "    # Plot the confusion matrix, if desired\n",
    "    if show_confusion_matrix:\n",
    "        print(\"Confusion Matrix:\")\n",
    "        plot_confusion_matrix(cls_pred=cls_pred)"
   ]
  },
  {
   "cell_type": "code",
   "execution_count": 476,
   "metadata": {
    "scrolled": false
   },
   "outputs": [
    {
     "name": "stdout",
     "output_type": "stream",
     "text": [
      "Optimization Iteration:      1, Training Accuracy:  20.3%\n",
      "Saved checkpoint.\n",
      "Optimization Iteration:     11, Training Accuracy:  64.1%\n",
      "Optimization Iteration:     21, Training Accuracy:  79.7%\n"
     ]
    },
    {
     "name": "stdout",
     "output_type": "stream",
     "text": [
      "Optimization Iteration:     31, Training Accuracy:  82.8%\n",
      "Optimization Iteration:     41, Training Accuracy:  81.2%\n",
      "Optimization Iteration:     51, Training Accuracy:  86.7%\n",
      "Optimization Iteration:     61, Training Accuracy:  84.4%\n",
      "Optimization Iteration:     71, Training Accuracy:  93.8%\n",
      "Optimization Iteration:     81, Training Accuracy:  88.3%\n",
      "Optimization Iteration:     91, Training Accuracy:  85.9%\n",
      "Time usage: 0:00:08\n"
     ]
    }
   ],
   "source": [
    "# Performance after 20000 optimization iterations\n",
    "training(num_iterations=100)"
   ]
  },
  {
   "cell_type": "code",
   "execution_count": 477,
   "metadata": {},
   "outputs": [
    {
     "name": "stdout",
     "output_type": "stream",
     "text": [
      "Accuracy on Test-Set: 88.1% (8810 / 10000)\n"
     ]
    },
    {
     "data": {
      "image/png": "[encoded data removed]",
      "text/plain": [
       "<Figure size 640x480 with 9 Axes>"
      ]
     },
     "metadata": {},
     "output_type": "display_data"
    },
    {
     "data": {
      "image/png": "[encoded data removed]",
      "text/plain": [
       "<Figure size 640x480 with 2 Axes>"
      ]
     },
     "metadata": {},
     "output_type": "display_data"
    }
   ],
   "source": [
    "test(show_example_errors=True,\n",
    "     show_confusion_matrix=True)"
   ]
  },
  {
   "cell_type": "code",
   "execution_count": 478,
   "metadata": {
    "collapsed": true
   },
   "outputs": [],
   "source": [
    "# Close session\n",
    "session.close()"
   ]
  }
 ],
 "metadata": {
  "anaconda-cloud": {},
  "kernelspec": {
   "display_name": "Python 3",
   "language": "python",
   "name": "python3"
  },
  "language_info": {
   "codemirror_mode": {
    "name": "ipython",
    "version": 3
   },
   "file_extension": ".py",
   "mimetype": "text/x-python",
   "name": "python",
   "nbconvert_exporter": "python",
   "pygments_lexer": "ipython3",
   "version": "3.11.6"
  }
 },
 "nbformat": 4,
 "nbformat_minor": 1
}
